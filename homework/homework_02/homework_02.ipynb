{
 "cells": [
  {
   "cell_type": "markdown",
   "metadata": {},
   "source": [
    "## Q1"
   ]
  },
  {
   "cell_type": "code",
   "execution_count": 1,
   "metadata": {},
   "outputs": [
    {
     "name": "stdout",
     "output_type": "stream",
     "text": [
      "mlflow, version 1.26.1\n"
     ]
    }
   ],
   "source": [
    "!mlflow --version"
   ]
  },
  {
   "cell_type": "markdown",
   "metadata": {},
   "source": [
    "## Q2"
   ]
  },
  {
   "cell_type": "code",
   "execution_count": 2,
   "metadata": {},
   "outputs": [],
   "source": [
    "!python preprocess_data.py --raw_data_path \"../../data\" --dest_path \"./output\""
   ]
  },
  {
   "cell_type": "code",
   "execution_count": 3,
   "metadata": {},
   "outputs": [
    {
     "name": "stdout",
     "output_type": "stream",
     "text": [
      "Number of files: 4\n",
      "Which are: ['valid.pkl', 'test.pkl', 'dv.pkl', 'train.pkl']\n"
     ]
    }
   ],
   "source": [
    "import os\n",
    "files = os.listdir(\"output\")\n",
    "\n",
    "print(f\"Number of files: {len(files)}\")\n",
    "print(f\"Which are: {files}\")"
   ]
  },
  {
   "cell_type": "markdown",
   "metadata": {},
   "source": [
    "## Q3"
   ]
  },
  {
   "cell_type": "code",
   "execution_count": 6,
   "metadata": {},
   "outputs": [
    {
     "name": "stdout",
     "output_type": "stream",
     "text": [
      "2022/05/28 16:50:03 INFO mlflow.tracking.fluent: Experiment with name 'nyc-taxi-hw02' does not exist. Creating a new experiment.\n",
      "2022/05/28 16:50:28 WARNING mlflow.utils.autologging_utils: MLflow autologging encountered a warning: \"/home/ubuntu/anaconda3/envs/exp-tracking-env/lib/python3.9/site-packages/_distutils_hack/__init__.py:30: UserWarning: Setuptools is replacing distutils.\"\n"
     ]
    }
   ],
   "source": [
    "!python train.py --data_path \"./output\""
   ]
  },
  {
   "cell_type": "code",
   "execution_count": 1,
   "metadata": {},
   "outputs": [
    {
     "data": {
      "text/plain": [
       "<Experiment: artifact_location='./mlruns/2', experiment_id='2', lifecycle_stage='active', name='nyc-taxi-hw02', tags={}>"
      ]
     },
     "execution_count": 1,
     "metadata": {},
     "output_type": "execute_result"
    }
   ],
   "source": [
    "from mlflow.tracking import MlflowClient\n",
    "MLFLOW_TRACKING_URI = \"sqlite:///../../mlflow.db\"\n",
    "client = MlflowClient(tracking_uri=MLFLOW_TRACKING_URI)\n",
    "\n",
    "client.get_experiment_by_name(\"nyc-taxi-hw02\")"
   ]
  },
  {
   "cell_type": "code",
   "execution_count": 2,
   "metadata": {},
   "outputs": [
    {
     "data": {
      "text/plain": [
       "<Run: data=<RunData: metrics={'training_mae': 3.9579721044559886,\n",
       " 'training_mse': 32.842658732583544,\n",
       " 'training_r2_score': 0.7543646399020425,\n",
       " 'training_rmse': 5.73085148408014,\n",
       " 'training_score': 0.7543646399020425}, params={'bootstrap': 'True',\n",
       " 'ccp_alpha': '0.0',\n",
       " 'criterion': 'squared_error',\n",
       " 'max_depth': '10',\n",
       " 'max_features': '1.0',\n",
       " 'max_leaf_nodes': 'None',\n",
       " 'max_samples': 'None',\n",
       " 'min_impurity_decrease': '0.0',\n",
       " 'min_samples_leaf': '1',\n",
       " 'min_samples_split': '2',\n",
       " 'min_weight_fraction_leaf': '0.0',\n",
       " 'n_estimators': '100',\n",
       " 'n_jobs': 'None',\n",
       " 'oob_score': 'False',\n",
       " 'random_state': '0',\n",
       " 'verbose': '0',\n",
       " 'warm_start': 'False'}, tags={'estimator_class': 'sklearn.ensemble._forest.RandomForestRegressor',\n",
       " 'estimator_name': 'RandomForestRegressor',\n",
       " 'mlflow.log-model.history': '[{\"run_id\": \"3f4a9f2267ce4d4bae1421cea4eaaac1\", '\n",
       "                             '\"artifact_path\": \"model\", \"utc_time_created\": '\n",
       "                             '\"2022-05-28 16:50:26.277794\", \"flavors\": '\n",
       "                             '{\"python_function\": {\"model_path\": \"model.pkl\", '\n",
       "                             '\"loader_module\": \"mlflow.sklearn\", '\n",
       "                             '\"python_version\": \"3.9.12\", \"env\": '\n",
       "                             '\"conda.yaml\"}, \"sklearn\": {\"pickled_model\": '\n",
       "                             '\"model.pkl\", \"sklearn_version\": \"1.1.1\", '\n",
       "                             '\"serialization_format\": \"cloudpickle\", \"code\": '\n",
       "                             'null}}, \"model_uuid\": '\n",
       "                             '\"f04cfcd431f64fbd9854f87f36a5ac36\", '\n",
       "                             '\"mlflow_version\": \"1.26.1\", \"signature\": '\n",
       "                             '{\"inputs\": \"[{\\\\\"type\\\\\": \\\\\"tensor\\\\\", '\n",
       "                             '\\\\\"tensor-spec\\\\\": {\\\\\"dtype\\\\\": \\\\\"float64\\\\\", '\n",
       "                             '\\\\\"shape\\\\\": [-1, 13221]}}]\", \"outputs\": '\n",
       "                             '\"[{\\\\\"type\\\\\": \\\\\"tensor\\\\\", \\\\\"tensor-spec\\\\\": '\n",
       "                             '{\\\\\"dtype\\\\\": \\\\\"float64\\\\\", \\\\\"shape\\\\\": '\n",
       "                             '[-1]}}]\"}}]',\n",
       " 'mlflow.source.git.commit': '974c3f8a2ce8a995b598df9266e962a821fa1914',\n",
       " 'mlflow.source.name': 'train.py',\n",
       " 'mlflow.source.type': 'LOCAL',\n",
       " 'mlflow.user': 'ubuntu'}>, info=<RunInfo: artifact_uri='./mlruns/2/3f4a9f2267ce4d4bae1421cea4eaaac1/artifacts', end_time=1653756629136, experiment_id='2', lifecycle_stage='active', run_id='3f4a9f2267ce4d4bae1421cea4eaaac1', run_uuid='3f4a9f2267ce4d4bae1421cea4eaaac1', start_time=1653756603639, status='FINISHED', user_id='ubuntu'>>"
      ]
     },
     "execution_count": 2,
     "metadata": {},
     "output_type": "execute_result"
    }
   ],
   "source": [
    "run0 = client.search_runs(experiment_ids='2')[0]\n",
    "run0"
   ]
  },
  {
   "cell_type": "code",
   "execution_count": 18,
   "metadata": {},
   "outputs": [
    {
     "name": "stdout",
     "output_type": "stream",
     "text": [
      "Number of parameters 17\n"
     ]
    }
   ],
   "source": [
    "run0.data.params\n",
    "print(f\"Number of parameters {len(run0.data.params)}\")"
   ]
  },
  {
   "cell_type": "markdown",
   "metadata": {},
   "source": [
    "## Q4\n",
    "Run the server as:\n",
    "mlflow ui --backend-store-uri sqlite:///mlflow.db --default-artifact-root ./artifacts\n",
    "\n",
    "The argument --default-artifact-root, specifies the location of the artifacts store."
   ]
  },
  {
   "cell_type": "markdown",
   "metadata": {},
   "source": [
    "## Q5\n",
    "The best rmse was 6.628"
   ]
  },
  {
   "cell_type": "code",
   "execution_count": 10,
   "metadata": {},
   "outputs": [
    {
     "data": {
      "text/plain": [
       "'3f4a9f2267ce4d4bae1421cea4eaaac1'"
      ]
     },
     "execution_count": 10,
     "metadata": {},
     "output_type": "execute_result"
    }
   ],
   "source": [
    "run0.info.run_id"
   ]
  },
  {
   "cell_type": "markdown",
   "metadata": {},
   "source": [
    "## Q6\n",
    "Test RMSE for the best registered model was\n",
    "6.548"
   ]
  }
 ],
 "metadata": {
  "interpreter": {
   "hash": "28b64ab469a48a0c250e8d59bd611e7be18157868e9c55fbe8ccf7861d9bf740"
  },
  "kernelspec": {
   "display_name": "Python 3.9.12 ('exp-tracking-env')",
   "language": "python",
   "name": "python3"
  },
  "language_info": {
   "codemirror_mode": {
    "name": "ipython",
    "version": 3
   },
   "file_extension": ".py",
   "mimetype": "text/x-python",
   "name": "python",
   "nbconvert_exporter": "python",
   "pygments_lexer": "ipython3",
   "version": "3.9.12"
  },
  "orig_nbformat": 4
 },
 "nbformat": 4,
 "nbformat_minor": 2
}
